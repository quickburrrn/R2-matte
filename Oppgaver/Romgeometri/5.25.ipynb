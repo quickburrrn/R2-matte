{
 "cells": [
  {
   "cell_type": "markdown",
   "id": "e71b2531",
   "metadata": {},
   "source": [
    "# lag et program som avgjør om to vektorer i rommet er ortogonale.\n",
    "Hvis de ikke er ortogonale skal programmet fortelle om vinkelen mellom dem er spiss eller stump"
   ]
  },
  {
   "cell_type": "code",
   "execution_count": null,
   "id": "161508e4",
   "metadata": {},
   "outputs": [
    {
     "name": "stdout",
     "output_type": "stream",
     "text": [
      "vinkelen er spis\n",
      "73.3443881600387\n"
     ]
    }
   ],
   "source": [
    "import numpy as np \n",
    "\n",
    "a = [2, 4, 7]\n",
    "b = [–3, 4, –3]\n",
    "\n",
    "# [2, 4, 7] og [–3, 4, –3]\n",
    "\n",
    "dot = (np.dot(a, b))\n",
    "\n",
    "\n",
    "angle = np.arccos(dot/(np.linalg.norm(a)*np.linalg.norm(b)))\n",
    "degree = np.degrees(angle)\n",
    "\n",
    "# elleminerer avrundingsfeil\n",
    "if np.isclose(dot, 0):\n",
    "    print(\"vinklene er ortogonale :)\")\n",
    "elif degree > 90:\n",
    "    print(\"vinkelen er stump\")\n",
    "else:\n",
    "    print(\"vinkelen er spis\")\n",
    "\n",
    "print(degree)\n",
    "\n",
    "# kan også bare sjekke om dot > 0 hvis det er den spiss\n",
    "# dot < 0 er stump"
   ]
  }
 ],
 "metadata": {
  "kernelspec": {
   "display_name": "Python 3 (ipykernel)",
   "language": "python",
   "name": "python3"
  },
  "language_info": {
   "codemirror_mode": {
    "name": "ipython",
    "version": 3
   },
   "file_extension": ".py",
   "mimetype": "text/x-python",
   "name": "python",
   "nbconvert_exporter": "python",
   "pygments_lexer": "ipython3",
   "version": "3.11.9"
  }
 },
 "nbformat": 4,
 "nbformat_minor": 5
}
