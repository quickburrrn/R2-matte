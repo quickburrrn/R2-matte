{
 "cells": [
  {
   "cell_type": "markdown",
   "id": "d9055430",
   "metadata": {},
   "source": [
    "# 2.23\n",
    "La $I$ være det bestemte integralet $I=\\int_0^1 \\sqrt{1+x^2} dx$ \n",
    "\n",
    "## b)\n",
    "Finn tilnærmingen med rektangelmetoden\n",
    "\n",
    "## c)\n",
    "Hvor stor må n være i oppgave b for at tilnærmingen av $I$ blir riktig med to desmalers nøyaktighet?"
   ]
  },
  {
   "cell_type": "code",
   "execution_count": 26,
   "id": "c173ac41",
   "metadata": {},
   "outputs": [
    {
     "name": "stdout",
     "output_type": "stream",
     "text": [
      "b 1.1457283994483294\n",
      "c) \n",
      "for to desimalers nøyaktighet må n være 160\n"
     ]
    }
   ],
   "source": [
    "import math\n",
    "\n",
    "def f(x):\n",
    "    return math.sqrt(1+ x**2)\n",
    "\n",
    "n = 100\n",
    "\n",
    "summen = 0\n",
    "dx = 1/n\n",
    "for i in range(n):\n",
    "    x = i*dx\n",
    "    summen += f(x) * dx\n",
    "\n",
    "print((\"b\"), summen)\n",
    "\n",
    "\n",
    "n = 10\n",
    "\n",
    "desired_acc = 0.005\n",
    "\n",
    "# litt rotete med den funker\n",
    "while True:\n",
    "\n",
    "    dx = 1/n\n",
    "    # venstre tilnærming\n",
    "    l_n = 0\n",
    "    for i in range(n):\n",
    "        x = i*dx\n",
    "        l_n += f(x) * dx\n",
    "        \n",
    "\n",
    "    # høyre tilnærming\n",
    "    r_n = 0\n",
    "    for i in range(n):\n",
    "        x = (i+1)*dx\n",
    "        r_n += f(x) * dx\n",
    "\n",
    "    if abs((r_n - l_n))<desired_acc:\n",
    "        break\n",
    "\n",
    "    # øker nøaktighet\n",
    "    n += n\n",
    "\n",
    "print(\"c) \")\n",
    "print(\"for to desimalers nøyaktighet må n være\", n)\n",
    "\n"
   ]
  }
 ],
 "metadata": {
  "kernelspec": {
   "display_name": "r2-matte",
   "language": "python",
   "name": "python3"
  },
  "language_info": {
   "codemirror_mode": {
    "name": "ipython",
    "version": 3
   },
   "file_extension": ".py",
   "mimetype": "text/x-python",
   "name": "python",
   "nbconvert_exporter": "python",
   "pygments_lexer": "ipython3",
   "version": "3.11.13"
  }
 },
 "nbformat": 4,
 "nbformat_minor": 5
}
