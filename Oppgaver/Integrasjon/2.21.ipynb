{
 "cells": [
  {
   "cell_type": "markdown",
   "id": "8955c7b1",
   "metadata": {},
   "source": [
    "# 2.21\n",
    "Funksjonen er $f(x)=x^2 - 2x + 2$\n",
    "\n",
    "Skriv et program som regner:\n",
    "\n",
    "### a)\n",
    "\n",
    "$\\displaystyle \\sum_{i=0}^{100} f(x_{i-1}) \\cdot \\Delta x$ i intervallet $[1, 5]$\n",
    "\n",
    "### b)\n",
    "\n",
    "$\\displaystyle \\sum_{i=0}^{100} f(x_{i-1}) \\cdot \\Delta $ i intervallet $[-3, 1]$\n",
    "\n",
    "### c)\n",
    "\n",
    "$\\displaystyle \\sum_{i=0}^{100} f(x_{i})$ i intervallet $[1, 5]$\n",
    "\n",
    "### d)\n",
    "\n",
    "$\\displaystyle \\int_1^5 f(x) dx$"
   ]
  },
  {
   "cell_type": "code",
   "execution_count": 26,
   "id": "679b42da",
   "metadata": {},
   "outputs": [
    {
     "name": "stdout",
     "output_type": "stream",
     "text": [
      "0\n",
      "a)  25.01\n",
      "0\n",
      "b)  25.65\n",
      "-1\n",
      "c)  24.39\n",
      "0\n",
      "d)  25.3\n"
     ]
    }
   ],
   "source": [
    "def f(x):\n",
    "    return x**2 - 2*x + 2 \n",
    "\n",
    "# Integral med N=100\n",
    "def integral(a, b, n, offsett = 0):\n",
    "    summen = 0\n",
    "    deltax = (b - a)/n\n",
    "\n",
    "    print(offsett)\n",
    "\n",
    "    # Reimanntilnærming\n",
    "    for i in range(n):\n",
    "        summen = summen + f(a + (i+offsett) * deltax) * deltax\n",
    "\n",
    "    return summen\n",
    "\n",
    "# a)\n",
    "\n",
    "print(\"a) \", round(integral(1, 5, 100), 2))\n",
    "\n",
    "# b)\n",
    "\n",
    "print(\"b) \", round(integral(-3, 1, 100), 2))\n",
    "\n",
    "# c)\n",
    "\n",
    "print(\"c) \", round(integral(1, 5, 100, -1), 2))\n",
    "\n",
    "# d)\n",
    "\n",
    "print(\"d) \", round(integral(1, 5, 1000), 2))\n",
    "\n"
   ]
  }
 ],
 "metadata": {
  "kernelspec": {
   "display_name": "r2-matte",
   "language": "python",
   "name": "python3"
  },
  "language_info": {
   "codemirror_mode": {
    "name": "ipython",
    "version": 3
   },
   "file_extension": ".py",
   "mimetype": "text/x-python",
   "name": "python",
   "nbconvert_exporter": "python",
   "pygments_lexer": "ipython3",
   "version": "3.11.13"
  }
 },
 "nbformat": 4,
 "nbformat_minor": 5
}
