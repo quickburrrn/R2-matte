{
 "cells": [
  {
   "cell_type": "markdown",
   "id": "182058ea",
   "metadata": {},
   "source": [
    "# 2.22\n",
    "Funksjonen er gitt ved $f(x)=\\sqrt{4-x^2}$\n",
    "\n",
    "### a)\n",
    "Finn reimannsummen for $f$ intervallet $[-2, 2]$ og intervallet $[0, 2]$ med en høyretilnærming der $n = 10$\n",
    "\n",
    "### b) \n",
    "Finn reimannsummen for f i intervallet $[-2, 2]$ og i intervallet $[0, 2]$ med en venstrelinærming der $n=10$\n",
    "\n",
    "### c)\n",
    "Sammenlikn svarene i oppgave a og b. Kommenter\n",
    "\n",
    "### d)\n",
    "Lag et program som finne $\\int_-2^2 f(x) dx$ med én desimals nøyaktighet"
   ]
  },
  {
   "cell_type": "code",
   "execution_count": null,
   "id": "ce90c8b3",
   "metadata": {},
   "outputs": [
    {
     "name": "stdout",
     "output_type": "stream",
     "text": [
      "a)\n",
      "[-2, 2] 6.074097657767103\n",
      "[0, 2] 2.9045183262483176\n",
      " \n",
      " b)\n",
      "[-2, 2] 6.074097657767103\n",
      "[0, 2]  3.304518326248318\n",
      " \n",
      " c)\n",
      "nøyaktighet på [-2, 2] :  0.0\n",
      "nøyaktigheten på [0, 2] :  -0.40000000000000036\n",
      "virker som tilnærmingen blir mindre nøyaktig jo lengre integralet er når n er konstnat\n",
      "100 -0.04000000000000048\n",
      "n = 100 svaret ble 6.320834063558094\n"
     ]
    }
   ],
   "source": [
    "def f(x):\n",
    "    return (4-x**2)**(1/2)\n",
    "\n",
    "def integral(a , b , n , offsett = 0) -> float:\n",
    "    summen = 0.0\n",
    "    deltax = (b - a)/n\n",
    "\n",
    "    # Reimanntilnærming\n",
    "    for i in range(n):\n",
    "        summen = summen + f(a + (i+offsett) * deltax) * deltax\n",
    "\n",
    "    return summen\n",
    "\n",
    "# a)\n",
    "\n",
    "print(\"a)\")\n",
    "print(\"[-2, 2]\", integral(-2.0, 2.0, 10, 1))\n",
    "print(\"[0, 2]\", integral(0, 2, 10, 1))\n",
    "\n",
    "# b)\n",
    "\n",
    "print(\" \\n b)\")\n",
    "print(\"[-2, 2]\", integral(-2, 2, 10))\n",
    "print(\"[0, 2] \", integral(0, 2, 10))\n",
    "\n",
    "# c)\n",
    "print(\" \\n c)\")\n",
    "print(\"nøyaktighet på [-2, 2] : \", integral(-2, 2, 10, 1) - integral(-2, 2, 10))\n",
    "print(\"nøyaktigheten på [0, 2] : \", integral(0, 2, 10, 1) - integral(0, 2, 10))\n",
    "print(\"virker som tilnærmingen blir mindre nøyaktig jo lengre integralet er når n er konstnat\")\n",
    "\n",
    "# d)\n",
    "# intervallet fra 0, 2 er det samme som -2,2 intervallet delt på to så da bruker jeg det\n",
    "# dette går fordi funksjonen er en halvsirkel\n",
    "\n",
    "desired_accuracy = 0.05\n",
    "n = 100\n",
    "\n",
    "while True:\n",
    "    current_accuracy = integral(0, 2, n, 1) - integral(0, 2, n)\n",
    "    print(n, current_accuracy)\n",
    "    if abs(current_accuracy) < desired_accuracy:\n",
    "        break\n",
    "    n += 1\n",
    "\n",
    "# ganger med to siden jeg brukte halve intervallet\n",
    "print(\"n =\", n, \"svaret ble\", round(integral(0, 2, n)*2))"
   ]
  }
 ],
 "metadata": {
  "kernelspec": {
   "display_name": "r2-matte",
   "language": "python",
   "name": "python3"
  },
  "language_info": {
   "codemirror_mode": {
    "name": "ipython",
    "version": 3
   },
   "file_extension": ".py",
   "mimetype": "text/x-python",
   "name": "python",
   "nbconvert_exporter": "python",
   "pygments_lexer": "ipython3",
   "version": "3.11.13"
  }
 },
 "nbformat": 4,
 "nbformat_minor": 5
}
