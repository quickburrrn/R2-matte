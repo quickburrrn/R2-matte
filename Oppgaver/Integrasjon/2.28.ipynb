{
 "cells": [
  {
   "cell_type": "markdown",
   "id": "0c89258f",
   "metadata": {},
   "source": [
    "# 2.28\n",
    "La $I$ være det bestemte integralet $I=\\int_1^2 \\frac{1}{x+x^2}dx$\n",
    "\n",
    "a) Finn $I$ med trapesmetoden med fem delintervaller"
   ]
  },
  {
   "cell_type": "code",
   "execution_count": 6,
   "id": "7ed25093",
   "metadata": {},
   "outputs": [
    {
     "name": "stdout",
     "output_type": "stream",
     "text": [
      "0.2897075147075147\n"
     ]
    }
   ],
   "source": [
    "n = 5\n",
    "a = 1 \n",
    "b = 2\n",
    "\n",
    "dx = (b-a)/n\n",
    "\n",
    "def f(x):\n",
    "    return 1/(x+x**2)\n",
    "\n",
    "summen = 0\n",
    "\n",
    "for i in range(n):\n",
    "    # høyre\n",
    "    x_ir = a + (i+1) * dx\n",
    "\n",
    "    # venstre\n",
    "    x_il = a + i * dx\n",
    "\n",
    "    # arelaet til trapes\n",
    "    T_i = ((f(x_ir) + f(x_il))*dx)/(2)\n",
    "\n",
    "    summen += T_i\n",
    "\n",
    "print(summen)"
   ]
  },
  {
   "cell_type": "markdown",
   "id": "418725b2",
   "metadata": {},
   "source": [
    "### b) Finn $I$ med en midtpunkttilnærming med fem delintervaller."
   ]
  },
  {
   "cell_type": "code",
   "execution_count": null,
   "id": "acfa2b88",
   "metadata": {},
   "outputs": [
    {
     "name": "stdout",
     "output_type": "stream",
     "text": [
      "0.28667367742325617\n"
     ]
    }
   ],
   "source": [
    "# Imponerende kort kode, dette skal brukes på eksamen\n",
    "f = lambda x: 1/x+x**2\n",
    "\n",
    "midpoint_sum = lambda f, a, b, n: ((b-a)/n) * sum(f(a + (i + 1/2) * (b-a)/n) for i in range(n))\n",
    "\n",
    "print(midpoint_sum(f, 1, 2, 5))"
   ]
  },
  {
   "cell_type": "markdown",
   "id": "0ae4b799",
   "metadata": {},
   "source": [
    "### c) Hvilke av svarene i oppgave a og b ligger nærmest det du finneri CAS?\n",
    "\n",
    "Det jeg får i CAS er 0.287\n",
    "\n",
    "Da ser vi at trapesmetoden er nærmest"
   ]
  },
  {
   "cell_type": "code",
   "execution_count": null,
   "id": "971f3c4d",
   "metadata": {},
   "outputs": [],
   "source": []
  }
 ],
 "metadata": {
  "kernelspec": {
   "display_name": "r2-matte",
   "language": "python",
   "name": "python3"
  },
  "language_info": {
   "codemirror_mode": {
    "name": "ipython",
    "version": 3
   },
   "file_extension": ".py",
   "mimetype": "text/x-python",
   "name": "python",
   "nbconvert_exporter": "python",
   "pygments_lexer": "ipython3",
   "version": "3.11.13"
  }
 },
 "nbformat": 4,
 "nbformat_minor": 5
}
