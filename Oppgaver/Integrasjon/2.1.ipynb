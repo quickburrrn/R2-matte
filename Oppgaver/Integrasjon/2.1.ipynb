{
 "cells": [
  {
   "cell_type": "markdown",
   "id": "62653b3f",
   "metadata": {},
   "source": [
    "# 2.1\n",
    "### b)\n",
    "Lag et program som finner $N_5$ og $N_50$\n",
    "funksjonen er f(x) = 2x+1"
   ]
  },
  {
   "cell_type": "code",
   "execution_count": 25,
   "id": "7c9b7d22",
   "metadata": {},
   "outputs": [
    {
     "name": "stdout",
     "output_type": "stream",
     "text": [
      "0.0005\n",
      "29.997500000000002\n"
     ]
    }
   ],
   "source": [
    "N = 10000\n",
    "\n",
    "dx = 5/N\n",
    "print(dx)\n",
    "\n",
    "\n",
    "integral = 0\n",
    "\n",
    "def f(x):\n",
    "    return 2*x+1\n",
    "\n",
    "for i in range(N):\n",
    "    integral += dx*f(i*dx)\n",
    "\n",
    "print(integral)"
   ]
  }
 ],
 "metadata": {
  "kernelspec": {
   "display_name": "r2-matte",
   "language": "python",
   "name": "python3"
  },
  "language_info": {
   "codemirror_mode": {
    "name": "ipython",
    "version": 3
   },
   "file_extension": ".py",
   "mimetype": "text/x-python",
   "name": "python",
   "nbconvert_exporter": "python",
   "pygments_lexer": "ipython3",
   "version": "3.11.13"
  }
 },
 "nbformat": 4,
 "nbformat_minor": 5
}
