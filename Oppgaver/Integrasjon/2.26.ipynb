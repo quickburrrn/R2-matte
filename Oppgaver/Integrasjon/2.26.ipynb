{
 "cells": [
  {
   "cell_type": "markdown",
   "id": "79b363ea",
   "metadata": {},
   "source": [
    "# 2.26\n",
    "\n",
    "### a)\n",
    "\n",
    "Finn $\\int_-2^2 \\sqrt{4-x^2} dx$ med en midtpunkttilnærming og 10 rektangler\n",
    "\n",
    "Sammenlign med oppgave 2.22 og kommenter."
   ]
  },
  {
   "cell_type": "code",
   "execution_count": null,
   "id": "738f355d",
   "metadata": {},
   "outputs": [
    {
     "name": "stdout",
     "output_type": "stream",
     "text": [
      "midtpunkttilnærmingen ble 6.34397564722617\n",
      "svaret i oppgave 2.22 ble 6.07\n"
     ]
    }
   ],
   "source": [
    "# a)\n",
    "\n",
    "from math import sqrt\n",
    "\n",
    "n = 10\n",
    "a = -2\n",
    "b = 2\n",
    "\n",
    "dx = (b-a)/n\n",
    "\n",
    "def f(x):\n",
    "    return sqrt(4-x**2)\n",
    "\n",
    "m_summen = 0\n",
    "\n",
    "for i in range(n):\n",
    "    x = f(a + (i+1/2)*dx)\n",
    "    m_summen += x * dx\n",
    "\n",
    "\n",
    "print(\"midtpunkttilnærmingen ble\", m_summen)\n",
    "print(\"svaret i oppgave 2.22 ble 6.07\")\n",
    "print(\"sammenligner vi med det faktigste integralet som er 2pi ca 6.28 er midpunkttilnærmingen mer egnet\")"
   ]
  },
  {
   "cell_type": "markdown",
   "id": "0c45ad75",
   "metadata": {},
   "source": [
    "### b)\n",
    "\n",
    "Finn $\\int_0^1 \\sqrt{1-x^2} dx$ med en midtpunkttilnærming og fire rektangler\n",
    "\n",
    "Sammenlign med oppgave 2.23 og kommenter."
   ]
  },
  {
   "cell_type": "code",
   "execution_count": null,
   "id": "ca6d2e9d",
   "metadata": {},
   "outputs": [
    {
     "name": "stdout",
     "output_type": "stream",
     "text": [
      "midtpunkttilnærmingen ble 1.145949638700229\n",
      "svaret i oppgave 2.22 ble 1.128 men da brukte man 10 rektangler i stedet for fire\n",
      "sammenligner vi med det faktigste integralet som er 2pi ca 6.28 er midpunkttilnærmingen mer egnet\n"
     ]
    }
   ],
   "source": [
    "# b)\n",
    "\n",
    "n = 4\n",
    "a = 0\n",
    "b = 1\n",
    "\n",
    "dx = (b-a)/n\n",
    "\n",
    "def f(x):\n",
    "    return sqrt(1+x**2)\n",
    "\n",
    "m_summen = 0\n",
    "\n",
    "for i in range(n):\n",
    "    x = f(a + (i+1/2) * dx)\n",
    "    m_summen += x * dx\n",
    "\n",
    "print(\"midtpunkttilnærmingen ble\", m_summen)\n",
    "print(\"svaret i oppgave 2.23 ble 1.128 men da brukte man 10 rektangler i stedet for fire\")\n",
    "print(\"sammenligner vi med det faktigste integralet som er 1.148 ser vi at m_summer er mer nøaktig en 2.23 svaret selv med 6 mindre rektangler\")"
   ]
  }
 ],
 "metadata": {
  "kernelspec": {
   "display_name": "r2-matte",
   "language": "python",
   "name": "python3"
  },
  "language_info": {
   "codemirror_mode": {
    "name": "ipython",
    "version": 3
   },
   "file_extension": ".py",
   "mimetype": "text/x-python",
   "name": "python",
   "nbconvert_exporter": "python",
   "pygments_lexer": "ipython3",
   "version": "3.11.13"
  }
 },
 "nbformat": 4,
 "nbformat_minor": 5
}
