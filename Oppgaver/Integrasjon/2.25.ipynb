{
 "cells": [
  {
   "cell_type": "markdown",
   "id": "94f6a09e",
   "metadata": {},
   "source": [
    "# 2.25\n",
    "\n",
    "Ta for deg det bestemte integralet $I=\\int_1^5 x^(2x) dx$\n",
    "\n",
    "### a)\n",
    "\n",
    "Lag et program som finner integralet med en midtpunkttilnærming med 20 rektangler\n",
    "\n",
    "### b)\n",
    "\n",
    "Sammenlign med resultatet du får ved å bruke en venstretilnærming og en høyretilnærming med 20 rektangler. Kommenter"
   ]
  },
  {
   "cell_type": "code",
   "execution_count": 20,
   "id": "219b2a82",
   "metadata": {},
   "outputs": [
    {
     "name": "stdout",
     "output_type": "stream",
     "text": [
      "tilnærmingen blir: 1819162.15\n"
     ]
    }
   ],
   "source": [
    "# a)\n",
    "\n",
    "n = 20\n",
    "a = 1\n",
    "b = 5\n",
    "\n",
    "dx = (b-a)/n\n",
    "\n",
    "def f(x):\n",
    "    return x**(2*x)\n",
    "\n",
    "m_summen = 0\n",
    "\n",
    "for i in range(n):\n",
    "    # i + 1/2 for midtpunkttilnærming fordi loopen starter på venstresiden\n",
    "    x = f(a + (i+1/2) * dx)\n",
    "    m_summen += x * dx\n",
    "\n",
    "print(\"tilnærmingen blir:\", round(m_summen, 2))"
   ]
  },
  {
   "cell_type": "code",
   "execution_count": 23,
   "id": "ea9419d3",
   "metadata": {},
   "outputs": [
    {
     "name": "stdout",
     "output_type": "stream",
     "text": [
      "venstretilnærming blir: 1091567.0\n",
      "midttilnærmingen blir: 1819162.15\n",
      "høyretilnærmingen blir: 3044691.8\n",
      "det virker som midpunkttilnærming gir et mer nøaktig svar\n",
      "det er også veldig forskellige svar noe som tyder på at det er for få rektangeler, midtsumm gir et svar mellom høyre og venstre\n"
     ]
    }
   ],
   "source": [
    "# b)\n",
    "\n",
    "n = 20\n",
    "a = 1\n",
    "b = 5\n",
    "\n",
    "dx = (b-a)/n\n",
    "\n",
    "def f(x):\n",
    "    return x**(2*x)\n",
    "\n",
    "v_summen = 0\n",
    "\n",
    "for i in range(n):\n",
    "    x = f(a + (i) * dx)\n",
    "    v_summen += x * dx\n",
    "\n",
    "h_summen = 0\n",
    "\n",
    "for i in range(n):\n",
    "    x = f(a + (i+1) * dx)\n",
    "    h_summen += x * dx\n",
    "\n",
    "print(\"venstretilnærming blir:\", round(v_summen, 2))\n",
    "print(\"midttilnærmingen blir:\", round(m_summen, 2))\n",
    "print(\"høyretilnærmingen blir:\", round(h_summen, 2))\n",
    "\n",
    "print(\"det virker som midpunkttilnærming gir et mer nøaktig svar\")\n",
    "print(\"det er også veldig forskellige svar noe som tyder på at det er for få rektangeler, midtsumm gir et svar mellom høyre og venstre\")"
   ]
  }
 ],
 "metadata": {
  "kernelspec": {
   "display_name": "r2-matte",
   "language": "python",
   "name": "python3"
  },
  "language_info": {
   "codemirror_mode": {
    "name": "ipython",
    "version": 3
   },
   "file_extension": ".py",
   "mimetype": "text/x-python",
   "name": "python",
   "nbconvert_exporter": "python",
   "pygments_lexer": "ipython3",
   "version": "3.11.13"
  }
 },
 "nbformat": 4,
 "nbformat_minor": 5
}
