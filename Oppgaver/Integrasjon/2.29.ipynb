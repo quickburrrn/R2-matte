{
 "cells": [
  {
   "cell_type": "markdown",
   "id": "cde80a4f",
   "metadata": {},
   "source": [
    "# 2.29\n",
    "\n",
    "### b)\n",
    "\n",
    "Lag et program som finner tilnærmingsverdier for $\\int_1^{2.7} \\frac{1}{x} dx$ og $\\int_1^{2.8} \\frac{1}{x} dx$\n",
    "\n",
    "Bruk tilstrekkelig nøyaktighet til å vise at $e \\in [2.7, 2.8]$"
   ]
  },
  {
   "cell_type": "code",
   "execution_count": null,
   "id": "dc6c9f43",
   "metadata": {},
   "outputs": [
    {
     "name": "stdout",
     "output_type": "stream",
     "text": [
      "første :  1.0296196527422954\n",
      "andre :  0.9932519808074253\n",
      "Svaret fra oppgave a er 1\n",
      "Så så som n er 1000 kan vi med trygghet si at $e \\in [2.7, 2.7]$\n"
     ]
    }
   ],
   "source": [
    "# fancy måte å lage liten funksjon\n",
    "f = lambda x: 1/x\n",
    "\n",
    "def trapesintegral(a, b, n):\n",
    "    dx = (b-a)/n\n",
    "\n",
    "    # regner først ut sum delen\n",
    "    summen = 0\n",
    "    for i in range(1, n):\n",
    "        x = a + i * dx\n",
    "        summen += f(x)\n",
    "    \n",
    "    return (dx/2) * (f(a) + f(b) + 2*summen)\n",
    "\n",
    "print(\"første : \", trapesintegral(1, 2.8, 1000))\n",
    "print(\"andre : \", trapesintegral(1, 2.7, 1000))\n",
    "\n",
    "print(\"Svaret fra oppgave a er 1\")\n",
    "print(\"Så så som n er 1000 kan vi med trygghet si at e er i [2.7, 2.7]\")"
   ]
  }
 ],
 "metadata": {
  "kernelspec": {
   "display_name": "r2-matte",
   "language": "python",
   "name": "python3"
  },
  "language_info": {
   "codemirror_mode": {
    "name": "ipython",
    "version": 3
   },
   "file_extension": ".py",
   "mimetype": "text/x-python",
   "name": "python",
   "nbconvert_exporter": "python",
   "pygments_lexer": "ipython3",
   "version": "3.11.13"
  }
 },
 "nbformat": 4,
 "nbformat_minor": 5
}
