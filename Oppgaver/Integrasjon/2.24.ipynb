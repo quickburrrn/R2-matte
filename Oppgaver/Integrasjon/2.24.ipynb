{
 "cells": [
  {
   "cell_type": "markdown",
   "id": "ff2021a6",
   "metadata": {},
   "source": [
    "# 2.24\n",
    "Gjør endringer i progammet slik at det finner en tilnærmingsverdi for $\\int_0^4 f(x) dx$ med en høyretilnærming"
   ]
  },
  {
   "cell_type": "code",
   "execution_count": null,
   "id": "8bc005b8",
   "metadata": {},
   "outputs": [
    {
     "name": "stdout",
     "output_type": "stream",
     "text": [
      "72.7\n"
     ]
    }
   ],
   "source": [
    "x = [0, 0.5, 1, 1.5, 2, 2.5, 3, 3.5, 4]\n",
    "f = [13.1, 16.3, 0, 8.2, 19.7, 24.8, 28.1, 27.3, 21.0]\n",
    "\n",
    "delta_x = x[1] - x[0]\n",
    "n = len(x)\n",
    "summen = 0\n",
    "\n",
    "# byttet fra n-1 til 1, n for å gjøre den fra venstre til høyretilnærming\n",
    "for i in range(1, n):\n",
    "    summen = summen + f[i] * delta_x\n",
    "\n",
    "print(round(summen, 1))"
   ]
  }
 ],
 "metadata": {
  "kernelspec": {
   "display_name": "r2-matte",
   "language": "python",
   "name": "python3"
  },
  "language_info": {
   "codemirror_mode": {
    "name": "ipython",
    "version": 3
   },
   "file_extension": ".py",
   "mimetype": "text/x-python",
   "name": "python",
   "nbconvert_exporter": "python",
   "pygments_lexer": "ipython3",
   "version": "3.11.13"
  }
 },
 "nbformat": 4,
 "nbformat_minor": 5
}
