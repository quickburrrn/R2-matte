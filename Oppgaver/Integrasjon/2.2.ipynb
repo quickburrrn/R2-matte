{
 "cells": [
  {
   "cell_type": "markdown",
   "id": "af106dd4",
   "metadata": {},
   "source": [
    "# 2.3\n",
    "### b) lag et program som finner $Ø_4$ og $N_4$ ved funksjonen $f(x)=\\frac{1}{x}$"
   ]
  },
  {
   "cell_type": "code",
   "execution_count": 9,
   "id": "28fd236e",
   "metadata": {},
   "outputs": [
    {
     "name": "stdout",
     "output_type": "stream",
     "text": [
      "1.2833333333333332\n",
      "1.2833333333333332\n"
     ]
    }
   ],
   "source": [
    "N = 4\n",
    "\n",
    "def f(x):\n",
    "    return 1/x\n",
    "\n",
    "def Integrall(a, b, is_nedre : bool = True):\n",
    "    dx = (b-a)/N\n",
    "\n",
    "    if is_nedre:\n",
    "        a += 1\n",
    "    else:\n",
    "        b -= 1\n",
    "\n",
    "    integral = 0\n",
    "\n",
    "    for i in range(a, b+1):\n",
    "        integral += dx*f(i*dx)\n",
    "\n",
    "    return integral\n",
    "\n",
    "print(Integrall(1, 5))\n",
    "print(Integrall(2, 6, False))"
   ]
  }
 ],
 "metadata": {
  "kernelspec": {
   "display_name": "r2-matte",
   "language": "python",
   "name": "python3"
  },
  "language_info": {
   "codemirror_mode": {
    "name": "ipython",
    "version": 3
   },
   "file_extension": ".py",
   "mimetype": "text/x-python",
   "name": "python",
   "nbconvert_exporter": "python",
   "pygments_lexer": "ipython3",
   "version": "3.11.13"
  }
 },
 "nbformat": 4,
 "nbformat_minor": 5
}
