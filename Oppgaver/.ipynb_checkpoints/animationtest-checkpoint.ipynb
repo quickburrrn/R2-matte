{
 "cells": [
  {
   "cell_type": "code",
   "execution_count": null,
   "id": "6b5b6acd",
   "metadata": {},
   "outputs": [],
   "source": [
    "import numpy as np\n",
    "import matplotlib.pyplot as plt\n",
    "from ipywidgets import interact\n",
    "import ipywidgets as widgets"
   ]
  },
  {
   "cell_type": "code",
   "execution_count": null,
   "id": "343ed425",
   "metadata": {},
   "outputs": [],
   "source": [
    "def plot_func(a=1.0):\n",
    "    x = np.linspace(0, 10, 1000)\n",
    "    y = a * np.sin(x)\n",
    "    plt.figure()\n",
    "    plt.plot(x, y)\n",
    "    plt.title(f'Amplitude = {a}')\n",
    "    plt.show()\n",
    "\n",
    "interact(plot_func, a=widgets.FloatSlider(min=0.1, max=10.0, step=0.1, value=1.0))"
   ]
  }
 ],
 "metadata": {
  "kernelspec": {
   "display_name": "r2-matte",
   "language": "python",
   "name": "python3"
  },
  "language_info": {
   "codemirror_mode": {
    "name": "ipython",
    "version": 3
   },
   "file_extension": ".py",
   "mimetype": "text/x-python",
   "name": "python",
   "nbconvert_exporter": "python",
   "pygments_lexer": "ipython3",
   "version": "3.11.13"
  }
 },
 "nbformat": 4,
 "nbformat_minor": 5
}
