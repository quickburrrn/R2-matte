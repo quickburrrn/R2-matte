{
 "cells": [
  {
   "cell_type": "markdown",
   "id": "48da5169",
   "metadata": {},
   "source": [
    "# 1.5"
   ]
  },
  {
   "cell_type": "code",
   "execution_count": 12,
   "id": "3657034b",
   "metadata": {},
   "outputs": [],
   "source": [
    "from typing import Callable\n",
    "\n",
    "# Oppretter en formel constructor\n",
    "def lagformel(start, f : Callable) -> Callable:\n",
    "    def rekursiv(n):\n",
    "        if (n) == 1:\n",
    "            return start\n",
    "\n",
    "        return f(rekursiv(n-1))\n",
    "    \n",
    "    return rekursiv"
   ]
  },
  {
   "cell_type": "code",
   "execution_count": 13,
   "id": "1101423d",
   "metadata": {},
   "outputs": [
    {
     "name": "stdout",
     "output_type": "stream",
     "text": [
      "2\n",
      "4\n",
      "8\n",
      "16\n",
      "32\n",
      "64\n",
      "128\n",
      "256\n",
      "512\n",
      "1024\n"
     ]
    }
   ],
   "source": [
    "# a\n",
    "def eksplisitt(n):\n",
    "    return 2*n\n",
    "formel = lagformel(2, eksplisitt)\n",
    "\n",
    "for n in range(10):\n",
    "    print(formel(n+1))"
   ]
  },
  {
   "cell_type": "code",
   "execution_count": 14,
   "id": "79adad26",
   "metadata": {},
   "outputs": [
    {
     "name": "stdout",
     "output_type": "stream",
     "text": [
      "5\n",
      "8\n",
      "11\n",
      "14\n",
      "17\n",
      "20\n",
      "23\n",
      "26\n",
      "29\n",
      "32\n"
     ]
    }
   ],
   "source": [
    "def eksplisitt(n):\n",
    "    return n+3\n",
    "formel = lagformel(5, eksplisitt)\n",
    "\n",
    "for n in range(10):\n",
    "    print(formel(n+1))"
   ]
  },
  {
   "cell_type": "code",
   "execution_count": 15,
   "id": "5ed94da5",
   "metadata": {},
   "outputs": [
    {
     "name": "stdout",
     "output_type": "stream",
     "text": [
      "1\n",
      "-1\n",
      "-5\n",
      "-13\n",
      "-29\n",
      "-61\n",
      "-125\n",
      "-253\n",
      "-509\n",
      "-1021\n"
     ]
    }
   ],
   "source": [
    "def eksplisitt(n):\n",
    "    return 2*n-3\n",
    "formel = lagformel(1, eksplisitt)\n",
    "\n",
    "for n in range(10):\n",
    "    print(formel(n+1))"
   ]
  },
  {
   "cell_type": "code",
   "execution_count": 16,
   "id": "67ba002a",
   "metadata": {},
   "outputs": [
    {
     "name": "stdout",
     "output_type": "stream",
     "text": [
      "1\n",
      "2\n",
      "4\n",
      "7\n",
      "11\n",
      "16\n",
      "22\n",
      "29\n",
      "37\n",
      "46\n"
     ]
    }
   ],
   "source": [
    "def rekursiv_d(n):\n",
    "        if (n) == 1:\n",
    "            return 1\n",
    "\n",
    "        return (rekursiv_d(n-1))+(n-1)\n",
    "\n",
    "for n in range(10):\n",
    "    print(rekursiv_d(n+1))"
   ]
  }
 ],
 "metadata": {
  "kernelspec": {
   "display_name": "r2-matte",
   "language": "python",
   "name": "python3"
  },
  "language_info": {
   "codemirror_mode": {
    "name": "ipython",
    "version": 3
   },
   "file_extension": ".py",
   "mimetype": "text/x-python",
   "name": "python",
   "nbconvert_exporter": "python",
   "pygments_lexer": "ipython3",
   "version": "3.11.13"
  }
 },
 "nbformat": 4,
 "nbformat_minor": 5
}
