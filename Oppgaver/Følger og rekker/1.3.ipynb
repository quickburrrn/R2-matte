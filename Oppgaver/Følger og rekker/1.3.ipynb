{
 "cells": [
  {
   "cell_type": "markdown",
   "id": "98ee36ea",
   "metadata": {},
   "source": [
    "# 1.3"
   ]
  },
  {
   "cell_type": "markdown",
   "id": "4b2981c2",
   "metadata": {},
   "source": [
    "### c"
   ]
  },
  {
   "cell_type": "code",
   "execution_count": 6,
   "id": "dea35e52",
   "metadata": {},
   "outputs": [
    {
     "name": "stdout",
     "output_type": "stream",
     "text": [
      "5\n",
      "6\n"
     ]
    }
   ],
   "source": [
    "# Lag et program som skriver ut leddene i følger gitt ved a_(n+1) = a_n + 1 for ulike valg av a_1 og ulikt antall\n",
    "# ledd\n",
    "\n",
    "a_1 = 5\n",
    "\n",
    "def formel(n):\n",
    "    if n == 1:\n",
    "        return a_1\n",
    "\n",
    "    return formel(n-1) + 1\n",
    "\n",
    "ledd = 2\n",
    "\n",
    "for i in range(ledd):\n",
    "    print(formel(i+1))"
   ]
  }
 ],
 "metadata": {
  "kernelspec": {
   "display_name": "r2-matte",
   "language": "python",
   "name": "python3"
  },
  "language_info": {
   "codemirror_mode": {
    "name": "ipython",
    "version": 3
   },
   "file_extension": ".py",
   "mimetype": "text/x-python",
   "name": "python",
   "nbconvert_exporter": "python",
   "pygments_lexer": "ipython3",
   "version": "3.11.13"
  }
 },
 "nbformat": 4,
 "nbformat_minor": 5
}
