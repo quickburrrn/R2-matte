{
 "cells": [
  {
   "cell_type": "markdown",
   "id": "cf1b68ce",
   "metadata": {},
   "source": [
    "# 1.16 fin summen av de 50 første leddene i rekka\n",
    "### a) $a_n=2n-1$"
   ]
  },
  {
   "cell_type": "code",
   "execution_count": null,
   "id": "2c22d087",
   "metadata": {},
   "outputs": [],
   "source": [
    "def a(n):\n",
    "    return 2*n-1\n",
    "\n",
    "for i in range(1, 51):\n",
    "    print(a(i))"
   ]
  },
  {
   "cell_type": "markdown",
   "id": "bfd730bd",
   "metadata": {},
   "source": [
    "### b) $f_n=n^2-2$"
   ]
  },
  {
   "cell_type": "code",
   "execution_count": null,
   "id": "78155de3",
   "metadata": {},
   "outputs": [],
   "source": [
    "def f(n):\n",
    "    return n**2-2\n",
    "\n",
    "for i in range(1, 51):\n",
    "    print(f(i))"
   ]
  },
  {
   "cell_type": "markdown",
   "id": "53483b7a",
   "metadata": {},
   "source": [
    "### c) $b_n=3*2^n$"
   ]
  },
  {
   "cell_type": "code",
   "execution_count": null,
   "id": "85003c9d",
   "metadata": {},
   "outputs": [],
   "source": [
    "def d(n):\n",
    "    return(3*2**n)\n",
    "\n",
    "for i in range(1, 51):\n",
    "    print(d(i))\n"
   ]
  },
  {
   "cell_type": "markdown",
   "id": "e397f142",
   "metadata": {},
   "source": [
    "### d) $g_n=50*0.89^{n-1}$"
   ]
  },
  {
   "cell_type": "code",
   "execution_count": null,
   "id": "a5765155",
   "metadata": {},
   "outputs": [],
   "source": [
    "def g(n):\n",
    "    return(50*0.89**(n-1))\n",
    "\n",
    "for i in range(1, 51):\n",
    "    print(g(i))"
   ]
  }
 ],
 "metadata": {
  "kernelspec": {
   "display_name": "r2-matte",
   "language": "python",
   "name": "python3"
  },
  "language_info": {
   "codemirror_mode": {
    "name": "ipython",
    "version": 3
   },
   "file_extension": ".py",
   "mimetype": "text/x-python",
   "name": "python",
   "nbconvert_exporter": "python",
   "pygments_lexer": "ipython3",
   "version": "3.11.13"
  }
 },
 "nbformat": 4,
 "nbformat_minor": 5
}
