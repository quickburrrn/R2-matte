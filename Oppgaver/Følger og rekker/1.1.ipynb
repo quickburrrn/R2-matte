{
 "cells": [
  {
   "cell_type": "markdown",
   "id": "f9daf33e",
   "metadata": {},
   "source": [
    "### a"
   ]
  },
  {
   "cell_type": "code",
   "execution_count": null,
   "id": "5bd582cd",
   "metadata": {},
   "outputs": [],
   "source": [
    "# tallfølge [5, 9, 13, 17]\n",
    "\n",
    "tall = 5\n",
    "\n",
    "for n in range(20):\n",
    "    print(tall)\n",
    "    tall += 4\n",
    "    "
   ]
  },
  {
   "cell_type": "markdown",
   "id": "4ec7b04d",
   "metadata": {},
   "source": [
    "### b"
   ]
  },
  {
   "cell_type": "code",
   "execution_count": null,
   "id": "c1bb8f61",
   "metadata": {},
   "outputs": [],
   "source": [
    "# tallfølge 10, 8, 6, 4\n",
    "# synker med 2 starter på 10\n",
    "\n",
    "tall = 10\n",
    "for n in range(20):\n",
    "    print(tall)\n",
    "    tall -= 2"
   ]
  },
  {
   "cell_type": "markdown",
   "id": "de2e7dfb",
   "metadata": {},
   "source": [
    "### c"
   ]
  },
  {
   "cell_type": "code",
   "execution_count": null,
   "id": "6332416a",
   "metadata": {},
   "outputs": [],
   "source": [
    "# tallfølge 1, 2, 4, 7, 11\n",
    "# stiger med indeksen\n",
    "\n",
    "tall = 1\n",
    "for n in range(20):\n",
    "    print(tall)\n",
    "    tall += n+1"
   ]
  },
  {
   "cell_type": "markdown",
   "id": "7e363533",
   "metadata": {},
   "source": [
    "### d"
   ]
  },
  {
   "cell_type": "code",
   "execution_count": null,
   "id": "cb1124d5",
   "metadata": {},
   "outputs": [],
   "source": [
    "# tallfølge 1, 4, 16, 64\n",
    "# ganger forrige tall med 4\n",
    "\n",
    "tall = 1\n",
    "for n in range(20):\n",
    "    print(tall)\n",
    "    tall *= 4"
   ]
  },
  {
   "cell_type": "markdown",
   "id": "8b1d8cd3",
   "metadata": {},
   "source": [
    "### e"
   ]
  },
  {
   "cell_type": "code",
   "execution_count": null,
   "id": "b4d7de0c",
   "metadata": {},
   "outputs": [],
   "source": [
    "# tallfølge 1, -3, 9, -27\n",
    "# -3 opphøyd i index\n",
    "\n",
    "tall = 1\n",
    "for n in range(20):\n",
    "    tall = (-3)**n\n",
    "    print(tall)\n",
    "    "
   ]
  },
  {
   "cell_type": "markdown",
   "id": "954289c8",
   "metadata": {},
   "source": [
    "### f"
   ]
  },
  {
   "cell_type": "code",
   "execution_count": null,
   "id": "b23b5cba",
   "metadata": {},
   "outputs": [],
   "source": [
    "# tallfølge 1, 4, 9, 16\n",
    "# stigningen stiger med to\n",
    "\n",
    "tall = 1\n",
    "stigning = 3\n",
    "for i in range(20):\n",
    "    print(tall)\n",
    "    tall += stigning\n",
    "    stigning += 2"
   ]
  }
 ],
 "metadata": {
  "kernelspec": {
   "display_name": "r2-matte",
   "language": "python",
   "name": "python3"
  },
  "language_info": {
   "codemirror_mode": {
    "name": "ipython",
    "version": 3
   },
   "file_extension": ".py",
   "mimetype": "text/x-python",
   "name": "python",
   "nbconvert_exporter": "python",
   "pygments_lexer": "ipython3",
   "version": "3.11.13"
  }
 },
 "nbformat": 4,
 "nbformat_minor": 5
}
