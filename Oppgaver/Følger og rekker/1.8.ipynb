{
 "cells": [
  {
   "cell_type": "markdown",
   "id": "14748536",
   "metadata": {},
   "source": [
    "# 1.8\n",
    "Se på følgen 5, 11, 20, 32, 47\n",
    "\n",
    "I eksempel 3c fant vi at den følgen er gitt ved\n",
    "\n",
    "$a_1=5$ og $a_{n+1}=a_n+3(n+1)$\n",
    "\n",
    "### b) Lag et program som skriver ut de første 50 leddene"
   ]
  },
  {
   "cell_type": "code",
   "execution_count": null,
   "id": "bb1058ed",
   "metadata": {},
   "outputs": [
    {
     "name": "stdout",
     "output_type": "stream",
     "text": [
      "5\n",
      "11\n",
      "20\n",
      "32\n",
      "47\n",
      "65\n",
      "86\n",
      "110\n",
      "137\n",
      "167\n",
      "200\n",
      "236\n",
      "275\n",
      "317\n",
      "362\n",
      "410\n",
      "461\n",
      "515\n",
      "572\n",
      "632\n",
      "695\n",
      "761\n",
      "830\n",
      "902\n",
      "977\n",
      "1055\n",
      "1136\n",
      "1220\n",
      "1307\n",
      "1397\n",
      "1490\n",
      "1586\n",
      "1685\n",
      "1787\n",
      "1892\n",
      "2000\n",
      "2111\n",
      "2225\n",
      "2342\n",
      "2462\n",
      "2585\n",
      "2711\n",
      "2840\n",
      "2972\n",
      "3107\n",
      "3245\n",
      "3386\n",
      "3530\n",
      "3677\n"
     ]
    },
    {
     "data": {
      "text/plain": [
       "3827"
      ]
     },
     "execution_count": 17,
     "metadata": {},
     "output_type": "execute_result"
    }
   ],
   "source": [
    "def funksjon(n):\n",
    "    if n == 1:\n",
    "        return 5\n",
    "\n",
    "    return funksjon(n-1) + 3 * n\n",
    "\n",
    "# bruker while fordi range ville ikke la meg på grunn av recursion\n",
    "\n",
    "i = 1\n",
    "while i != 50:\n",
    "    print(funksjon(i))\n",
    "    i+=1"
   ]
  },
  {
   "cell_type": "markdown",
   "id": "38b82a4a",
   "metadata": {},
   "source": [
    "### c) Lag et program som skriver ut differansen $a_{n+1}-a_n$ for de første leddene."
   ]
  },
  {
   "cell_type": "code",
   "execution_count": 27,
   "id": "d5da5f0a",
   "metadata": {},
   "outputs": [
    {
     "name": "stdout",
     "output_type": "stream",
     "text": [
      "6\n",
      "9\n",
      "12\n",
      "15\n",
      "18\n",
      "21\n",
      "24\n",
      "27\n",
      "30\n",
      "33\n",
      "36\n",
      "39\n",
      "42\n",
      "45\n",
      "48\n",
      "51\n",
      "54\n",
      "57\n",
      "60\n",
      "63\n",
      "66\n",
      "69\n",
      "72\n",
      "75\n",
      "78\n",
      "81\n",
      "84\n",
      "87\n",
      "90\n",
      "93\n",
      "96\n",
      "99\n",
      "102\n",
      "105\n",
      "108\n",
      "111\n",
      "114\n",
      "117\n",
      "120\n",
      "123\n",
      "126\n",
      "129\n",
      "132\n",
      "135\n",
      "138\n",
      "141\n",
      "144\n",
      "147\n"
     ]
    }
   ],
   "source": [
    "\n",
    "tallfølge = []\n",
    "i = 1\n",
    "while i != 50:\n",
    "    tallfølge.append(funksjon(i))\n",
    "    i+=1\n",
    "\n",
    "for n in range(1, 49):\n",
    "    print(tallfølge[n]-tallfølge[n-1])"
   ]
  }
 ],
 "metadata": {
  "kernelspec": {
   "display_name": "r2-matte",
   "language": "python",
   "name": "python3"
  },
  "language_info": {
   "codemirror_mode": {
    "name": "ipython",
    "version": 3
   },
   "file_extension": ".py",
   "mimetype": "text/x-python",
   "name": "python",
   "nbconvert_exporter": "python",
   "pygments_lexer": "ipython3",
   "version": "3.11.13"
  }
 },
 "nbformat": 4,
 "nbformat_minor": 5
}
