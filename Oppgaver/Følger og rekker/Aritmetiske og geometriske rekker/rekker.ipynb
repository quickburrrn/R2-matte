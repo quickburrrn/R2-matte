{
 "cells": [
  {
   "cell_type": "markdown",
   "id": "8686595f",
   "metadata": {},
   "source": [
    "## Aritmetisk rekke"
   ]
  },
  {
   "cell_type": "code",
   "execution_count": 2,
   "id": "b0ea81a7",
   "metadata": {},
   "outputs": [
    {
     "name": "stdout",
     "output_type": "stream",
     "text": [
      "1\n",
      "6\n",
      "11\n",
      "16\n",
      "21\n",
      "26\n",
      "31\n",
      "36\n",
      "41\n",
      "46\n"
     ]
    }
   ],
   "source": [
    "a1 = 1\n",
    "d = 5\n",
    "\n",
    "for n in range(1, 11):\n",
    "    an = a1 + (n - 1)*d\n",
    "    print(an)"
   ]
  },
  {
   "cell_type": "markdown",
   "id": "6846a5b7",
   "metadata": {},
   "source": [
    "## Geometrisk rekke"
   ]
  },
  {
   "cell_type": "code",
   "execution_count": 3,
   "id": "ef9dc0a9",
   "metadata": {},
   "outputs": [
    {
     "name": "stdout",
     "output_type": "stream",
     "text": [
      "1\n",
      "5\n",
      "25\n",
      "125\n",
      "625\n",
      "3125\n",
      "15625\n",
      "78125\n",
      "390625\n",
      "1953125\n"
     ]
    }
   ],
   "source": [
    "a1 = 1\n",
    "k = 5\n",
    "\n",
    "for n in range(1, 11):\n",
    "    an = a1*k**(n-1)\n",
    "    print(an)"
   ]
  }
 ],
 "metadata": {
  "kernelspec": {
   "display_name": "r2-matte",
   "language": "python",
   "name": "python3"
  },
  "language_info": {
   "codemirror_mode": {
    "name": "ipython",
    "version": 3
   },
   "file_extension": ".py",
   "mimetype": "text/x-python",
   "name": "python",
   "nbconvert_exporter": "python",
   "pygments_lexer": "ipython3",
   "version": "3.11.13"
  }
 },
 "nbformat": 4,
 "nbformat_minor": 5
}
