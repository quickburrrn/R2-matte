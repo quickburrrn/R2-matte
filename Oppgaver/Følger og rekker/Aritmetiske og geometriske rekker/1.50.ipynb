{
 "cells": [
  {
   "cell_type": "markdown",
   "id": "7aa899d2",
   "metadata": {},
   "source": [
    "# 1.50\n",
    "Lag et program som regner ut summen av en endelig aritmetisk rekke.\n",
    "Bruk programmet til å regne ut summen rekka:\n",
    "\n",
    "a) $3+9+15+...+69$\n",
    "\n",
    "b) $7+4+1-2-...-20$"
   ]
  },
  {
   "cell_type": "code",
   "execution_count": null,
   "id": "f6578b2b",
   "metadata": {},
   "outputs": [
    {
     "ename": "KeyboardInterrupt",
     "evalue": "",
     "output_type": "error",
     "traceback": [
      "\u001b[31m---------------------------------------------------------------------------\u001b[39m",
      "\u001b[31mKeyboardInterrupt\u001b[39m                         Traceback (most recent call last)",
      "\u001b[36mCell\u001b[39m\u001b[36m \u001b[39m\u001b[32mIn[16]\u001b[39m\u001b[32m, line 10\u001b[39m\n\u001b[32m      8\u001b[39m s = start\n\u001b[32m      9\u001b[39m i = \u001b[32m0\u001b[39m\n\u001b[32m---> \u001b[39m\u001b[32m10\u001b[39m \u001b[38;5;28;01mwhile\u001b[39;00m \u001b[38;5;129;01mnot\u001b[39;00m done:\n\u001b[32m     11\u001b[39m     i += \u001b[32m1\u001b[39m\n\u001b[32m     12\u001b[39m     s += d*i\n",
      "\u001b[31mKeyboardInterrupt\u001b[39m: "
     ]
    }
   ],
   "source": [
    "# variabler\n",
    "start = 3\n",
    "d = 6\n",
    "slutt = 69\n",
    "\n",
    "# done = False\n",
    "\n",
    "s = start\n",
    "i = 0\n",
    "while not done:\n",
    "    i += 1\n",
    "    s += d*i\n",
    "    done = i*d == slutt\n",
    "\n",
    "\n",
    "ledd = int((slutt-start)/d + 1) # antall ledd\n",
    "\n"
   ]
  }
 ],
 "metadata": {
  "kernelspec": {
   "display_name": "r2-matte",
   "language": "python",
   "name": "python3"
  },
  "language_info": {
   "codemirror_mode": {
    "name": "ipython",
    "version": 3
   },
   "file_extension": ".py",
   "mimetype": "text/x-python",
   "name": "python",
   "nbconvert_exporter": "python",
   "pygments_lexer": "ipython3",
   "version": "3.11.13"
  }
 },
 "nbformat": 4,
 "nbformat_minor": 5
}
