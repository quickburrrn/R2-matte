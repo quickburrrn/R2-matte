{
 "cells": [
  {
   "cell_type": "markdown",
   "id": "7aa899d2",
   "metadata": {},
   "source": [
    "# 1.50\n",
    "Lag et program som regner ut summen av en endelig aritmetisk rekke.\n",
    "Bruk programmet til å regne ut summen rekka:\n",
    "\n",
    "a) $3+9+15+...+69$\n",
    "\n",
    "b) $7+4+1-2-...-20$"
   ]
  },
  {
   "cell_type": "code",
   "execution_count": 31,
   "id": "f6578b2b",
   "metadata": {},
   "outputs": [
    {
     "name": "stdout",
     "output_type": "stream",
     "text": [
      "summen er -65\n"
     ]
    }
   ],
   "source": [
    "# variabler\n",
    "a = 7 # start med andre rod\n",
    "d = -3\n",
    "slutt = -20\n",
    "\n",
    "s = 0\n",
    "\n",
    "while a >= slutt:\n",
    "    s += a\n",
    "    a += d\n",
    "    \n",
    "\n",
    "print(\"summen er\", s)"
   ]
  }
 ],
 "metadata": {
  "kernelspec": {
   "display_name": "r2-matte",
   "language": "python",
   "name": "python3"
  },
  "language_info": {
   "codemirror_mode": {
    "name": "ipython",
    "version": 3
   },
   "file_extension": ".py",
   "mimetype": "text/x-python",
   "name": "python",
   "nbconvert_exporter": "python",
   "pygments_lexer": "ipython3",
   "version": "3.11.13"
  }
 },
 "nbformat": 4,
 "nbformat_minor": 5
}
