{
 "cells": [
  {
   "cell_type": "markdown",
   "id": "047217ba",
   "metadata": {},
   "source": [
    "# 1.22 Skriv et program som skriver ut de ti første leddene i rekka og finner $s_{10}$\n",
    "### a) $a_n=4-3n$"
   ]
  },
  {
   "cell_type": "code",
   "execution_count": 2,
   "id": "2ceda129",
   "metadata": {},
   "outputs": [
    {
     "name": "stdout",
     "output_type": "stream",
     "text": [
      "1\n",
      "-2\n",
      "-5\n",
      "-8\n",
      "-11\n",
      "-14\n",
      "-17\n",
      "-20\n",
      "-23\n",
      "-26\n",
      "sum: -125\n"
     ]
    }
   ],
   "source": [
    "def a(n):\n",
    "    return 4 - 3*n\n",
    "\n",
    "s_10 = 0\n",
    "\n",
    "for n in range(1, 11):\n",
    "    print(a(n))\n",
    "    s_10 += a(n)\n",
    "\n",
    "print(\"sum:\", s_10)"
   ]
  },
  {
   "cell_type": "markdown",
   "id": "609100a9",
   "metadata": {},
   "source": [
    "### b) $b_n=2^n$"
   ]
  },
  {
   "cell_type": "code",
   "execution_count": 6,
   "id": "e692944b",
   "metadata": {},
   "outputs": [
    {
     "name": "stdout",
     "output_type": "stream",
     "text": [
      "2\n",
      "4\n",
      "8\n",
      "16\n",
      "32\n",
      "64\n",
      "128\n",
      "256\n",
      "512\n",
      "1024\n",
      "2046\n"
     ]
    }
   ],
   "source": [
    "def b(n):\n",
    "    return 2**n\n",
    "\n",
    "s_10 = 0\n",
    "\n",
    "for i in range(1, 11):\n",
    "    print(b(i))\n",
    "    s_10 += b(i)\n",
    "\n",
    "print(s_10)\n"
   ]
  },
  {
   "cell_type": "markdown",
   "id": "75b599e2",
   "metadata": {},
   "source": [
    "### c) $c_n=n^2+2n+1$"
   ]
  },
  {
   "cell_type": "code",
   "execution_count": 7,
   "id": "a98d8ad4",
   "metadata": {},
   "outputs": [
    {
     "name": "stdout",
     "output_type": "stream",
     "text": [
      "4\n",
      "9\n",
      "16\n",
      "25\n",
      "36\n",
      "49\n",
      "64\n",
      "81\n",
      "100\n",
      "121\n",
      "505\n"
     ]
    }
   ],
   "source": [
    "def c(n):\n",
    "    return n**2+2*n+1\n",
    "\n",
    "s_10 = 0\n",
    "\n",
    "for i in range(1, 11):\n",
    "    print(c(i))\n",
    "    s_10 += c(i)\n",
    "\n",
    "print(s_10)\n"
   ]
  }
 ],
 "metadata": {
  "kernelspec": {
   "display_name": "r2-matte",
   "language": "python",
   "name": "python3"
  },
  "language_info": {
   "codemirror_mode": {
    "name": "ipython",
    "version": 3
   },
   "file_extension": ".py",
   "mimetype": "text/x-python",
   "name": "python",
   "nbconvert_exporter": "python",
   "pygments_lexer": "ipython3",
   "version": "3.11.13"
  }
 },
 "nbformat": 4,
 "nbformat_minor": 5
}
