{
 "cells": [
  {
   "cell_type": "markdown",
   "id": "b44dadb4",
   "metadata": {},
   "source": [
    "# 1.19"
   ]
  },
  {
   "cell_type": "code",
   "execution_count": 2,
   "id": "42c41f72",
   "metadata": {},
   "outputs": [
    {
     "name": "stdout",
     "output_type": "stream",
     "text": [
      "47\n"
     ]
    }
   ],
   "source": [
    "def eksplisitt(n):\n",
    "    return n**2-1\n",
    "\n",
    "svar = 0\n",
    "for k in range(3, 6):\n",
    "    svar += eksplisitt(k)\n",
    "\n",
    "print(svar)"
   ]
  }
 ],
 "metadata": {
  "kernelspec": {
   "display_name": "r2-matte",
   "language": "python",
   "name": "python3"
  },
  "language_info": {
   "codemirror_mode": {
    "name": "ipython",
    "version": 3
   },
   "file_extension": ".py",
   "mimetype": "text/x-python",
   "name": "python",
   "nbconvert_exporter": "python",
   "pygments_lexer": "ipython3",
   "version": "3.11.13"
  }
 },
 "nbformat": 4,
 "nbformat_minor": 5
}
