{
 "cells": [
  {
   "cell_type": "markdown",
   "id": "7613f609",
   "metadata": {},
   "source": [
    "# 1.26\n",
    "Skriv summen ved hjelp av summnotasjonstegnet\n",
    "Lag et program som finner summen\n",
    "\n",
    "### a) 2+12+32+62+...+362"
   ]
  },
  {
   "cell_type": "code",
   "execution_count": 8,
   "id": "34cc7853",
   "metadata": {},
   "outputs": [
    {
     "name": "stdout",
     "output_type": "stream",
     "text": [
      "1218\n"
     ]
    }
   ],
   "source": [
    "def a(n):\n",
    "    return 5*n**2-5*n+2\n",
    "\n",
    "sum = 0\n",
    "for i in range(1, 10):\n",
    "    sum += a(i)\n",
    "print(sum)"
   ]
  }
 ],
 "metadata": {
  "kernelspec": {
   "display_name": ".venv",
   "language": "python",
   "name": "python3"
  },
  "language_info": {
   "codemirror_mode": {
    "name": "ipython",
    "version": 3
   },
   "file_extension": ".py",
   "mimetype": "text/x-python",
   "name": "python",
   "nbconvert_exporter": "python",
   "pygments_lexer": "ipython3",
   "version": "3.11.9"
  }
 },
 "nbformat": 4,
 "nbformat_minor": 5
}
