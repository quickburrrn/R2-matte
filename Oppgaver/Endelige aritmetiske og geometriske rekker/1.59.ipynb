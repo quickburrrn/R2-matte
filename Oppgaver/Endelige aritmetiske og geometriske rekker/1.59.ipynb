{
 "cells": [
  {
   "cell_type": "markdown",
   "id": "2d0d24dc",
   "metadata": {},
   "source": [
    "# 1.58\n",
    "Lag et program som regner  ut summen av en endelig geometrisk rekke.\n",
    "Bruk programmet til å finne summen av de ti første leddene i en geometrisk rekke der\n",
    "\n",
    "a) $a_1 = 3,2$ og $k=0,7$\n",
    "\n",
    "b) $a_1 = -5$ og $k=7$\n",
    "\n",
    "c) $a_2 = 34$ og $a_13=69 632$"
   ]
  },
  {
   "cell_type": "code",
   "execution_count": 19,
   "id": "f740ad7f",
   "metadata": {},
   "outputs": [
    {
     "name": "stdout",
     "output_type": "stream",
     "text": [
      "a) a_1 = 3.2 \n",
      "   k = 0.7 \n",
      "   summen er: 10.365359734399998\n",
      "b) a_1 = -5 \n",
      "   k = 7 \n",
      "   summen er: -235396040\n",
      "c) \n",
      "   k: 2.0\n",
      "   a_1: 17.0\n",
      "\n",
      " summen er: 17391.0\n"
     ]
    }
   ],
   "source": [
    "#                  bruk dette for å se ut som å vite hva du gjør\n",
    "def rekkesum_geometrisk(a_1, k) -> float:\n",
    "    step = a_1\n",
    "    summen = 0\n",
    "    \n",
    "    # bruk _ hvis inedex ikke betyr noe\n",
    "    for _ in range(10):\n",
    "        summen += step\n",
    "        step = step*k\n",
    "        \n",
    "    return summen\n",
    "\n",
    "\n",
    "# a)\n",
    "print(\"a) a_1 = 3.2 \\n   k = 0.7 \\n   summen er:\", rekkesum_geometrisk(3.2, 0.7))\n",
    "\n",
    "# b)\n",
    "\n",
    "print(\"b) a_1 = -5 \\n   k = 7 \\n   summen er:\", rekkesum_geometrisk(-5, 7))\n",
    "\n",
    "# c)\n",
    "\n",
    "print(\"c) \")\n",
    "\n",
    "# regner ut k og a_1\n",
    "k_c = (69632/34)**(1/11)\n",
    "print(\"   k:\", k_c)\n",
    "a_c1 = 34/2\n",
    "print(\"   a_1:\", a_c1)\n",
    "\n",
    "print(\"\\n summen er:\", rekkesum_geometrisk(a_c1, k_c))\n"
   ]
  }
 ],
 "metadata": {
  "kernelspec": {
   "display_name": "r2-matte",
   "language": "python",
   "name": "python3"
  },
  "language_info": {
   "codemirror_mode": {
    "name": "ipython",
    "version": 3
   },
   "file_extension": ".py",
   "mimetype": "text/x-python",
   "name": "python",
   "nbconvert_exporter": "python",
   "pygments_lexer": "ipython3",
   "version": "3.11.13"
  }
 },
 "nbformat": 4,
 "nbformat_minor": 5
}
