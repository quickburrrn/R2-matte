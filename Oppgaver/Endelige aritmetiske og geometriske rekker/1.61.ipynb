{
 "cells": [
  {
   "cell_type": "markdown",
   "id": "1f59fa84",
   "metadata": {},
   "source": [
    "# 1.61\n",
    "Hvor mangle ledd må vi minst ha med fra rekker for at summen skal bli større en 1000\n",
    "a) 1+3+9+27\n"
   ]
  },
  {
   "cell_type": "code",
   "execution_count": null,
   "id": "b2e3cb12",
   "metadata": {},
   "outputs": [
    {
     "name": "stdout",
     "output_type": "stream",
     "text": [
      "0\n",
      "3\n",
      "12\n",
      "39\n",
      "120\n",
      "363\n",
      "1092\n",
      "3279\n",
      "9840\n",
      "29523\n"
     ]
    }
   ],
   "source": [
    "a_1 = 1\n",
    "k = 3\n",
    "\n",
    "step = a_1\n",
    "tallsum = 0\n",
    "\n",
    "for sum in range(10):\n",
    "    print(tallsum)\n",
    "    step *= k\n",
    "    tallsum += step"
   ]
  }
 ],
 "metadata": {
  "kernelspec": {
   "display_name": "r2-matte",
   "language": "python",
   "name": "python3"
  },
  "language_info": {
   "codemirror_mode": {
    "name": "ipython",
    "version": 3
   },
   "file_extension": ".py",
   "mimetype": "text/x-python",
   "name": "python",
   "nbconvert_exporter": "python",
   "pygments_lexer": "ipython3",
   "version": "3.11.13"
  }
 },
 "nbformat": 4,
 "nbformat_minor": 5
}
