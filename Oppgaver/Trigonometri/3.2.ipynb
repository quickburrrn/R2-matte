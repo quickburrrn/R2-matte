{
 "cells": [
  {
   "cell_type": "markdown",
   "id": "6f1146a2",
   "metadata": {},
   "source": [
    "# lag et program som viser:\n",
    "\n",
    "1. $90^\\circ$ svarer til $\\frac{\\pi}{2} radianer$\n",
    "2. $36,9^\\circ$ svarer til $0,644 radianer$\n",
    "3. $\\frac{\\pi}{4}$ radianer svarer til $45^\\circ$\n",
    "4. $0,963$ radianer svarer til $55,2^\\circ$"
   ]
  },
  {
   "cell_type": "code",
   "execution_count": 8,
   "id": "0243eca9",
   "metadata": {},
   "outputs": [
    {
     "name": "stdout",
     "output_type": "stream",
     "text": [
      "1. \n",
      "90/180 * π = 1.5707963267948966\n",
      "π/2 = 1.5707963267948966\n",
      "2. \n",
      "36.9/180 * π = 0.6440264939859075\n",
      "3. \n",
      "(π/4)/π * 180 = 45.0\n",
      "4. \n",
      "0.963/π * 180 = 55.17583567109827\n"
     ]
    }
   ],
   "source": [
    "from math import pi\n",
    "\n",
    "print(\"1. \")\n",
    "print(\"90/180 * π =\", 90/180 * pi)\n",
    "print(\"π/2 =\", 1/2 * pi)\n",
    "\n",
    "print(\"2. \")\n",
    "print(\"36.9/180 * π =\", 36.9/180 * pi)\n",
    "\n",
    "print(\"3. \")\n",
    "print(\"(π/4)/π * 180 =\", (pi/4)/pi * 180)\n",
    "\n",
    "print(\"4. \")\n",
    "print(\"0.963/π * 180 =\", 0.963/pi * 180)"
   ]
  }
 ],
 "metadata": {
  "kernelspec": {
   "display_name": "r2-matte",
   "language": "python",
   "name": "python3"
  },
  "language_info": {
   "codemirror_mode": {
    "name": "ipython",
    "version": 3
   },
   "file_extension": ".py",
   "mimetype": "text/x-python",
   "name": "python",
   "nbconvert_exporter": "python",
   "pygments_lexer": "ipython3",
   "version": "3.11.13"
  }
 },
 "nbformat": 4,
 "nbformat_minor": 5
}
